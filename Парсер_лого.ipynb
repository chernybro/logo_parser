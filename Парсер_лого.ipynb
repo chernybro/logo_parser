{
  "nbformat": 4,
  "nbformat_minor": 0,
  "metadata": {
    "colab": {
      "name": "Парсер лого.ipynb",
      "provenance": [],
      "collapsed_sections": [],
      "authorship_tag": "ABX9TyMbpeXkFoDi1yxI3+z3IZl1",
      "include_colab_link": true
    },
    "kernelspec": {
      "name": "python3",
      "display_name": "Python 3"
    },
    "language_info": {
      "name": "python"
    }
  },
  "cells": [
    {
      "cell_type": "markdown",
      "metadata": {
        "id": "view-in-github",
        "colab_type": "text"
      },
      "source": [
        "<a href=\"https://colab.research.google.com/github/chernybro/logo_parser/blob/main/%D0%9F%D0%B0%D1%80%D1%81%D0%B5%D1%80_%D0%BB%D0%BE%D0%B3%D0%BE.ipynb\" target=\"_parent\"><img src=\"https://colab.research.google.com/assets/colab-badge.svg\" alt=\"Open In Colab\"/></a>"
      ]
    },
    {
      "cell_type": "code",
      "metadata": {
        "colab": {
          "base_uri": "https://localhost:8080/"
        },
        "id": "bqoNUlOQy--q",
        "outputId": "622f1a33-4907-45a0-ac38-8f3daeb4197c"
      },
      "source": [
        "!pip install bs4 "
      ],
      "execution_count": null,
      "outputs": [
        {
          "output_type": "stream",
          "name": "stdout",
          "text": [
            "Requirement already satisfied: bs4 in /usr/local/lib/python3.7/dist-packages (0.0.1)\n",
            "Requirement already satisfied: beautifulsoup4 in /usr/local/lib/python3.7/dist-packages (from bs4) (4.6.3)\n"
          ]
        }
      ]
    },
    {
      "cell_type": "code",
      "metadata": {
        "id": "4PfyL81Oz5Fy"
      },
      "source": [
        "from bs4 import BeautifulSoup\n",
        "import requests as req"
      ],
      "execution_count": null,
      "outputs": []
    },
    {
      "cell_type": "code",
      "metadata": {
        "id": "pzERsPRXXtE0"
      },
      "source": [
        "import csv"
      ],
      "execution_count": null,
      "outputs": []
    },
    {
      "cell_type": "code",
      "metadata": {
        "id": "WYJoQqC0zZ-L"
      },
      "source": [
        "resp = req.get(\"https://www.logobank.ru/photo/2\")\n",
        "\n",
        "\n",
        "downloadlinks = []\n",
        "dictionary = []\n",
        "descriptions = []\n",
        "for i in range(2,57):\n",
        "  print(i)\n",
        "  resp = req.get(\"https://www.logobank.ru/photo/\" + str(i))\n",
        " \n",
        "  soup = BeautifulSoup(resp.text, 'lxml')\n",
        "\n",
        "  td = []\n",
        "  for link in soup.find_all('td'):\n",
        "    td.append(link.a)\n",
        "\n",
        "  td = list(filter(None, td))\n",
        "\n",
        "  links=[]\n",
        "  target = \"'\"\n",
        "  for link in td:\n",
        "    links.append(link.get('href'))\n",
        "    \n",
        "  \n",
        "  for j in links:\n",
        "    resp1 = req.get(j)\n",
        "    soup1 = BeautifulSoup(resp1.text, 'html.parser')\n",
        "    for k in soup1.find_all(id = \"logo_img\"):\n",
        "      downloadlinks.append(k.find(\"img\").get('src'))\n",
        "      longlink = k.find(\"img\").get('src')\n",
        "      shortlink = longlink[longlink.rfind(\"/\")+1:] + target\n",
        "      descriptions.append(soup1.find(class_ = \"div_margin\").text)\n",
        "\n",
        "      dictionary.append(shortlink + '; \"'+ soup1.find(class_ = \"div_margin\").text)\n",
        "    #print(dictionary)\n",
        "  "
      ],
      "execution_count": null,
      "outputs": []
    },
    {
      "cell_type": "code",
      "metadata": {
        "id": "7Tgot8kD14x9"
      },
      "source": [
        "for i in downloadlinks:\n",
        "  p = req.get(i)\n",
        "  out = open(i[i.rfind(\"/\")+1:], \"wb\")\n",
        "  out.write(p.content)\n",
        "  out.close()"
      ],
      "execution_count": null,
      "outputs": []
    },
    {
      "cell_type": "code",
      "metadata": {
        "id": "SkvbaiiKSu40"
      },
      "source": [
        "with open(\"text6.csv\",'w',encoding='utf-8') as csvfile:\n",
        "        writer = csv.writer(csvfile)\n",
        "        for i in dictionary:\n",
        "          writer.writerow([i])\n",
        "    "
      ],
      "execution_count": null,
      "outputs": []
    },
    {
      "cell_type": "code",
      "metadata": {
        "id": "JsyXaaBrS31s"
      },
      "source": [
        ""
      ],
      "execution_count": null,
      "outputs": []
    }
  ]
}